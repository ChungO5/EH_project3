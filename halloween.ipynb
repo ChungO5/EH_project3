{
 "cells": [
  {
   "cell_type": "code",
   "execution_count": 49,
   "metadata": {},
   "outputs": [
    {
     "data": {
      "text/html": [
       "<div>\n",
       "<style scoped>\n",
       "    .dataframe tbody tr th:only-of-type {\n",
       "        vertical-align: middle;\n",
       "    }\n",
       "\n",
       "    .dataframe tbody tr th {\n",
       "        vertical-align: top;\n",
       "    }\n",
       "\n",
       "    .dataframe thead th {\n",
       "        text-align: right;\n",
       "    }\n",
       "</style>\n",
       "<table border=\"1\" class=\"dataframe\">\n",
       "  <thead>\n",
       "    <tr style=\"text-align: right;\">\n",
       "      <th></th>\n",
       "      <th>Open</th>\n",
       "      <th>High</th>\n",
       "      <th>Low</th>\n",
       "      <th>Close</th>\n",
       "      <th>Volume</th>\n",
       "    </tr>\n",
       "    <tr>\n",
       "      <th>Date</th>\n",
       "      <th></th>\n",
       "      <th></th>\n",
       "      <th></th>\n",
       "      <th></th>\n",
       "      <th></th>\n",
       "    </tr>\n",
       "  </thead>\n",
       "  <tbody>\n",
       "    <tr>\n",
       "      <th>2000-10-02</th>\n",
       "      <td>3840.0</td>\n",
       "      <td>3880.0</td>\n",
       "      <td>3760.0</td>\n",
       "      <td>3810.0</td>\n",
       "      <td>41120852.0</td>\n",
       "    </tr>\n",
       "    <tr>\n",
       "      <th>2000-10-04</th>\n",
       "      <td>3700.0</td>\n",
       "      <td>3950.0</td>\n",
       "      <td>3590.0</td>\n",
       "      <td>3890.0</td>\n",
       "      <td>82636952.0</td>\n",
       "    </tr>\n",
       "    <tr>\n",
       "      <th>2000-10-05</th>\n",
       "      <td>4020.0</td>\n",
       "      <td>4080.0</td>\n",
       "      <td>3940.0</td>\n",
       "      <td>3940.0</td>\n",
       "      <td>62749752.0</td>\n",
       "    </tr>\n",
       "    <tr>\n",
       "      <th>2000-10-06</th>\n",
       "      <td>3800.0</td>\n",
       "      <td>3900.0</td>\n",
       "      <td>3760.0</td>\n",
       "      <td>3900.0</td>\n",
       "      <td>54935500.0</td>\n",
       "    </tr>\n",
       "    <tr>\n",
       "      <th>2000-10-09</th>\n",
       "      <td>3820.0</td>\n",
       "      <td>3840.0</td>\n",
       "      <td>3680.0</td>\n",
       "      <td>3690.0</td>\n",
       "      <td>63199752.0</td>\n",
       "    </tr>\n",
       "  </tbody>\n",
       "</table>\n",
       "</div>"
      ],
      "text/plain": [
       "              Open    High     Low   Close      Volume\n",
       "Date                                                  \n",
       "2000-10-02  3840.0  3880.0  3760.0  3810.0  41120852.0\n",
       "2000-10-04  3700.0  3950.0  3590.0  3890.0  82636952.0\n",
       "2000-10-05  4020.0  4080.0  3940.0  3940.0  62749752.0\n",
       "2000-10-06  3800.0  3900.0  3760.0  3900.0  54935500.0\n",
       "2000-10-09  3820.0  3840.0  3680.0  3690.0  63199752.0"
      ]
     },
     "execution_count": 49,
     "metadata": {},
     "output_type": "execute_result"
    }
   ],
   "source": [
    "import pandas as pd\n",
    "import warnings\n",
    "warnings.filterwarnings('ignore')\n",
    "\n",
    "data = pd.read_csv(\"data.csv\", index_col=0)\n",
    "data.index = pd.to_datetime(data.index)\n",
    "data.head()"
   ]
  },
  {
   "cell_type": "code",
   "execution_count": 47,
   "metadata": {},
   "outputs": [],
   "source": [
    "import FinanceDataReader as fdr\n",
    "data = fdr.DataReader('005930', start = '2000', end = '2020')"
   ]
  },
  {
   "cell_type": "code",
   "execution_count": 50,
   "metadata": {},
   "outputs": [
    {
     "data": {
      "text/html": [
       "<div>\n",
       "<style scoped>\n",
       "    .dataframe tbody tr th:only-of-type {\n",
       "        vertical-align: middle;\n",
       "    }\n",
       "\n",
       "    .dataframe tbody tr th {\n",
       "        vertical-align: top;\n",
       "    }\n",
       "\n",
       "    .dataframe thead th {\n",
       "        text-align: right;\n",
       "    }\n",
       "</style>\n",
       "<table border=\"1\" class=\"dataframe\">\n",
       "  <thead>\n",
       "    <tr style=\"text-align: right;\">\n",
       "      <th></th>\n",
       "      <th>Open</th>\n",
       "      <th>High</th>\n",
       "      <th>Low</th>\n",
       "      <th>Close</th>\n",
       "      <th>Volume</th>\n",
       "    </tr>\n",
       "  </thead>\n",
       "  <tbody>\n",
       "    <tr>\n",
       "      <th>2000-11-01</th>\n",
       "      <td>3000.0</td>\n",
       "      <td>3270.0</td>\n",
       "      <td>2960.0</td>\n",
       "      <td>3260.0</td>\n",
       "      <td>94165000.0</td>\n",
       "    </tr>\n",
       "    <tr>\n",
       "      <th>2001-04-30</th>\n",
       "      <td>4460.0</td>\n",
       "      <td>4620.0</td>\n",
       "      <td>4410.0</td>\n",
       "      <td>4580.0</td>\n",
       "      <td>38228552.0</td>\n",
       "    </tr>\n",
       "    <tr>\n",
       "      <th>2001-11-01</th>\n",
       "      <td>3540.0</td>\n",
       "      <td>3630.0</td>\n",
       "      <td>3480.0</td>\n",
       "      <td>3580.0</td>\n",
       "      <td>34297252.0</td>\n",
       "    </tr>\n",
       "    <tr>\n",
       "      <th>2002-04-30</th>\n",
       "      <td>7660.0</td>\n",
       "      <td>7770.0</td>\n",
       "      <td>7560.0</td>\n",
       "      <td>7640.0</td>\n",
       "      <td>44786600.0</td>\n",
       "    </tr>\n",
       "    <tr>\n",
       "      <th>2002-11-01</th>\n",
       "      <td>6860.0</td>\n",
       "      <td>6920.0</td>\n",
       "      <td>6770.0</td>\n",
       "      <td>6820.0</td>\n",
       "      <td>27227800.0</td>\n",
       "    </tr>\n",
       "  </tbody>\n",
       "</table>\n",
       "</div>"
      ],
      "text/plain": [
       "              Open    High     Low   Close      Volume\n",
       "2000-11-01  3000.0  3270.0  2960.0  3260.0  94165000.0\n",
       "2001-04-30  4460.0  4620.0  4410.0  4580.0  38228552.0\n",
       "2001-11-01  3540.0  3630.0  3480.0  3580.0  34297252.0\n",
       "2002-04-30  7660.0  7770.0  7560.0  7640.0  44786600.0\n",
       "2002-11-01  6860.0  6920.0  6770.0  6820.0  27227800.0"
      ]
     },
     "execution_count": 50,
     "metadata": {},
     "output_type": "execute_result"
    }
   ],
   "source": [
    "df = pd.DataFrame()\n",
    "for year in range(2000, 2020):\n",
    "    buy_month = str(year) + '-11'\n",
    "    sell_month = str(year+1) + '-04'\n",
    "    df = df.append(data.loc[buy_month].iloc[0])\n",
    "    df = df.append(data.loc[sell_month].iloc[-1])\n",
    "df.head()"
   ]
  },
  {
   "cell_type": "code",
   "execution_count": 51,
   "metadata": {},
   "outputs": [],
   "source": [
    "from backtesting import Strategy, Backtest\n",
    "from backtesting.lib import crossover\n",
    "\n",
    "\n",
    "#전략 설정\n",
    "class halloween(Strategy):\n",
    "\n",
    "    def init(self):\n",
    "        self.does_have_stock = False\n",
    "    \n",
    "    def next(self):\n",
    "        if self.does_have_stock == True:\n",
    "            self.position.close()\n",
    "            self.does_have_stock = False\n",
    "        else:\n",
    "            self.buy()\n",
    "            self.does_have_stock = True"
   ]
  },
  {
   "cell_type": "code",
   "execution_count": 52,
   "metadata": {},
   "outputs": [
    {
     "data": {
      "text/plain": [
       "Start                     2000-11-01 00:00:00\n",
       "End                       2020-04-29 00:00:00\n",
       "Duration                   7119 days 00:00:00\n",
       "Exposure Time [%]                        95.0\n",
       "Equity Final [$]                   510101.985\n",
       "Equity Peak [$]                    522850.485\n",
       "Return [%]                          920.20397\n",
       "Buy & Hold Return [%]             1433.742331\n",
       "Return (Ann.) [%]             226322622.10702\n",
       "Volatility (Ann.) [%]      26376933024.176739\n",
       "Sharpe Ratio                          0.00858\n",
       "Sortino Ratio                  4771163.608092\n",
       "Calmar Ratio                  19554288.360899\n",
       "Max. Drawdown [%]                  -11.574066\n",
       "Avg. Drawdown [%]                   -6.907306\n",
       "Max. Drawdown Duration      733 days 00:00:00\n",
       "Avg. Drawdown Duration      600 days 00:00:00\n",
       "# Trades                                   19\n",
       "Win Rate [%]                        68.421053\n",
       "Best Trade [%]                     116.060091\n",
       "Worst Trade [%]                    -12.085225\n",
       "Avg. Trade [%]                      13.342481\n",
       "Max. Trade Duration         181 days 00:00:00\n",
       "Avg. Trade Duration         180 days 00:00:00\n",
       "Profit Factor                        7.839265\n",
       "Expectancy [%]                      16.037247\n",
       "SQN                                  2.324315\n",
       "_strategy                           halloween\n",
       "_equity_curve                             ...\n",
       "_trades                       Size  EntryB...\n",
       "dtype: object"
      ]
     },
     "execution_count": 52,
     "metadata": {},
     "output_type": "execute_result"
    }
   ],
   "source": [
    "bt = Backtest(df, halloween, cash=50000, commission=.0015)\n",
    "stats = bt.run()\n",
    "stats"
   ]
  },
  {
   "cell_type": "code",
   "execution_count": null,
   "metadata": {},
   "outputs": [],
   "source": []
  }
 ],
 "metadata": {
  "kernelspec": {
   "display_name": "Python 3.9.13 ('base')",
   "language": "python",
   "name": "python3"
  },
  "language_info": {
   "codemirror_mode": {
    "name": "ipython",
    "version": 3
   },
   "file_extension": ".py",
   "mimetype": "text/x-python",
   "name": "python",
   "nbconvert_exporter": "python",
   "pygments_lexer": "ipython3",
   "version": "3.9.13"
  },
  "orig_nbformat": 4,
  "vscode": {
   "interpreter": {
    "hash": "e163ceabed14004a2be08d33b507ad289cfd64fd9b098af0411be1bc31411ab8"
   }
  }
 },
 "nbformat": 4,
 "nbformat_minor": 2
}
