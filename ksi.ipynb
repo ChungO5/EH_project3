{
 "cells": [
  {
   "cell_type": "code",
   "execution_count": 1,
   "metadata": {},
   "outputs": [],
   "source": [
    "import requests\n",
    "import json\n",
    "import pandas as pd\n",
    "from datetime import datetime, timedelta"
   ]
  },
  {
   "cell_type": "code",
   "execution_count": 2,
   "metadata": {},
   "outputs": [],
   "source": [
    "APP_KEY = \"Access Key\"\n",
    "APP_SECRET = \"Secret Key\"\n",
    "URL_BASE = \"https://openapivts.koreainvestment.com:29443\" # 모의투자\n",
    "ACCESS_TOKEN = \"\""
   ]
  },
  {
   "cell_type": "code",
   "execution_count": 3,
   "metadata": {},
   "outputs": [],
   "source": [
    "def auth(): #토큰 발급\n",
    "    headers = {\"content-type\":\"application/json\"}\n",
    "    body = {\n",
    "        \"grant_type\":\"client_credentials\",\n",
    "        \"appkey\":APP_KEY, \n",
    "        \"appsecret\":APP_SECRET\n",
    "        }\n",
    "    PATH = \"oauth2/tokenP\"\n",
    "    URL = f\"{URL_BASE}/{PATH}\"\n",
    "    res = requests.post(URL, headers=headers, data=json.dumps(body))\n",
    "    \n",
    "    global ACCESS_TOKEN\n",
    "    ACCESS_TOKEN = res.json()[\"access_token\"]"
   ]
  },
  {
   "cell_type": "code",
   "execution_count": 4,
   "metadata": {},
   "outputs": [],
   "source": [
    "auth()"
   ]
  },
  {
   "cell_type": "code",
   "execution_count": 5,
   "metadata": {},
   "outputs": [],
   "source": [
    "# 조회 데이터 \n",
    "def itemchartprice(stock_no, start:str, end:str): #일봉 데이터 조회(한번 호출시 마다 최대 100건까지만 조회 가능)\n",
    "    PATH = \"uapi/domestic-stock/v1/quotations/inquire-daily-itemchartprice\"\n",
    "    URL = f\"{URL_BASE}/{PATH}\"\n",
    "\n",
    "    # 헤더 설정\n",
    "    headers = {\"Content-Type\":\"application/json\", \n",
    "               \"authorization\": f\"Bearer {ACCESS_TOKEN}\",\n",
    "               \"appKey\":APP_KEY,\n",
    "               \"appSecret\":APP_SECRET,\n",
    "               \"tr_id\":\"FHKST03010100\"}\n",
    "    params = {\n",
    "            \"fid_cond_mrkt_div_code\": \"J\",\n",
    "            \"fid_input_date_1\": start,\n",
    "            \"fid_input_date_2\": end,\n",
    "            \"fid_input_iscd\": stock_no,\n",
    "            \"fid_org_adj_prc\": \"0\",\n",
    "            \"fid_period_div_code\": \"D\"\n",
    "    }\n",
    "    \n",
    "    # 호출\n",
    "    res = requests.get(URL, headers=headers, params=params)\n",
    "    data = pd.DataFrame(res.json()[\"output2\"])\n",
    "\n",
    "\n",
    "    end = datetime.strftime(datetime.strptime(data.iloc[-1][\"stck_bsop_date\"],'%Y%m%d') - timedelta(days=1),'%Y%m%d')\n",
    "    while  end > start:\n",
    "        params['fid_input_date_2'] = end\n",
    "        last_date = data.iloc[-1][\"stck_bsop_date\"]\n",
    "        res = requests.get(URL, headers=headers, params=params)\n",
    "        if res.json()['output2'][0] == {}:\n",
    "            break\n",
    "        # data = data.append(pd.DataFrame(res.json()[\"output2\"]))\n",
    "        data = pd.concat([data, pd.DataFrame(res.json()[\"output2\"])])\n",
    "\n",
    "        if last_date == data.iloc[-1][\"stck_bsop_date\"]: \n",
    "            break\n",
    "        end = datetime.strftime(datetime.strptime(data.iloc[-1][\"stck_bsop_date\"],'%Y%m%d') - timedelta(days=1),'%Y%m%d')\n",
    "    \n",
    "    #Parsing\n",
    "    values =  [\"Date\", \"Open\", \"High\", \"Low\", \"Close\", \"Volume\"]\n",
    "    keys = [\"stck_bsop_date\", \"stck_oprc\", \"stck_hgpr\", \"stck_lwpr\", \"stck_clpr\", \"acml_vol\"]\n",
    "    data = data[keys]\n",
    "    rename_map = dict(zip(keys, values))\n",
    "    data.rename(columns=rename_map, inplace=True)\n",
    "    data['Date'] = pd.to_datetime(data['Date'], format='%Y%m%d', errors='raise')\n",
    "    data = data.set_index(\"Date\")\n",
    "    data.astype('int')\n",
    "    data = data.astype(\"int64\")\n",
    "    return(data)  "
   ]
  },
  {
   "cell_type": "code",
   "execution_count": 7,
   "metadata": {},
   "outputs": [
    {
     "data": {
      "text/html": [
       "<div>\n",
       "<style scoped>\n",
       "    .dataframe tbody tr th:only-of-type {\n",
       "        vertical-align: middle;\n",
       "    }\n",
       "\n",
       "    .dataframe tbody tr th {\n",
       "        vertical-align: top;\n",
       "    }\n",
       "\n",
       "    .dataframe thead th {\n",
       "        text-align: right;\n",
       "    }\n",
       "</style>\n",
       "<table border=\"1\" class=\"dataframe\">\n",
       "  <thead>\n",
       "    <tr style=\"text-align: right;\">\n",
       "      <th></th>\n",
       "      <th>Open</th>\n",
       "      <th>High</th>\n",
       "      <th>Low</th>\n",
       "      <th>Close</th>\n",
       "      <th>Volume</th>\n",
       "    </tr>\n",
       "    <tr>\n",
       "      <th>Date</th>\n",
       "      <th></th>\n",
       "      <th></th>\n",
       "      <th></th>\n",
       "      <th></th>\n",
       "      <th></th>\n",
       "    </tr>\n",
       "  </thead>\n",
       "  <tbody>\n",
       "    <tr>\n",
       "      <th>2020-12-30</th>\n",
       "      <td>77400</td>\n",
       "      <td>81300</td>\n",
       "      <td>77300</td>\n",
       "      <td>81000</td>\n",
       "      <td>29417420</td>\n",
       "    </tr>\n",
       "    <tr>\n",
       "      <th>2020-12-29</th>\n",
       "      <td>78800</td>\n",
       "      <td>78900</td>\n",
       "      <td>77300</td>\n",
       "      <td>78300</td>\n",
       "      <td>30339448</td>\n",
       "    </tr>\n",
       "    <tr>\n",
       "      <th>2020-12-28</th>\n",
       "      <td>79000</td>\n",
       "      <td>80100</td>\n",
       "      <td>78200</td>\n",
       "      <td>78700</td>\n",
       "      <td>40085044</td>\n",
       "    </tr>\n",
       "    <tr>\n",
       "      <th>2020-12-24</th>\n",
       "      <td>74100</td>\n",
       "      <td>78800</td>\n",
       "      <td>74000</td>\n",
       "      <td>77800</td>\n",
       "      <td>32502870</td>\n",
       "    </tr>\n",
       "    <tr>\n",
       "      <th>2020-12-23</th>\n",
       "      <td>72400</td>\n",
       "      <td>74000</td>\n",
       "      <td>72300</td>\n",
       "      <td>73900</td>\n",
       "      <td>19411326</td>\n",
       "    </tr>\n",
       "  </tbody>\n",
       "</table>\n",
       "</div>"
      ],
      "text/plain": [
       "             Open   High    Low  Close    Volume\n",
       "Date                                            \n",
       "2020-12-30  77400  81300  77300  81000  29417420\n",
       "2020-12-29  78800  78900  77300  78300  30339448\n",
       "2020-12-28  79000  80100  78200  78700  40085044\n",
       "2020-12-24  74100  78800  74000  77800  32502870\n",
       "2020-12-23  72400  74000  72300  73900  19411326"
      ]
     },
     "execution_count": 7,
     "metadata": {},
     "output_type": "execute_result"
    }
   ],
   "source": [
    "data = itemchartprice(\"005930\",'20010201','20201231')\n",
    "data.to_csv('data.csv')\n",
    "data.head()\n"
   ]
  },
  {
   "cell_type": "code",
   "execution_count": null,
   "metadata": {},
   "outputs": [],
   "source": []
  }
 ],
 "metadata": {
  "kernelspec": {
   "display_name": "Python 3.9.13 ('base')",
   "language": "python",
   "name": "python3"
  },
  "language_info": {
   "codemirror_mode": {
    "name": "ipython",
    "version": 3
   },
   "file_extension": ".py",
   "mimetype": "text/x-python",
   "name": "python",
   "nbconvert_exporter": "python",
   "pygments_lexer": "ipython3",
   "version": "3.9.13"
  },
  "orig_nbformat": 4,
  "vscode": {
   "interpreter": {
    "hash": "e163ceabed14004a2be08d33b507ad289cfd64fd9b098af0411be1bc31411ab8"
   }
  }
 },
 "nbformat": 4,
 "nbformat_minor": 2
}
